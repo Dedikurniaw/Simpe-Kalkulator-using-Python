{
  "nbformat": 4,
  "nbformat_minor": 0,
  "metadata": {
    "colab": {
      "provenance": []
    },
    "kernelspec": {
      "name": "python3",
      "display_name": "Python 3"
    },
    "language_info": {
      "name": "python"
    }
  },
  "cells": [
    {
      "cell_type": "code",
      "source": [
        "def kalkulator():\n",
        "    x = float(input(\"Masukkan nilai x: \"))\n",
        "    operator = input(\"Masukkan operator: \")\n",
        "    y = float(input(\"Masukkan nilai y: \"))\n",
        "\n",
        "    if operator == '+':\n",
        "        hasil = x + y\n",
        "    elif operator == '-':\n",
        "        hasil = x - y\n",
        "    elif operator == '*':\n",
        "        hasil = x * y\n",
        "    elif operator == '/':\n",
        "        if y != 0:\n",
        "            hasil = x / y\n",
        "        else:\n",
        "            return \"Pembagian dengan nol tidak valid.\"\n",
        "    else:\n",
        "        return \"Operator tidak valid.\"\n",
        "\n",
        "    return hasil\n",
        "\n",
        "# Memanggil fungsi kalkulator\n",
        "hasil = kalkulator()\n",
        "\n",
        "# Menampilkan hasil\n",
        "print(\"Hasil:\", hasil)"
      ],
      "metadata": {
        "colab": {
          "base_uri": "https://localhost:8080/"
        },
        "id": "7ObEYvRk1iZ6",
        "outputId": "20a6b3ae-82df-41f4-d991-e5a1594d3e8a"
      },
      "execution_count": null,
      "outputs": [
        {
          "output_type": "stream",
          "name": "stdout",
          "text": [
            "Masukkan nilai x: 6\n",
            "Masukkan operator: /\n",
            "Masukkan nilai y: 3\n",
            "Hasil: 2.0\n"
          ]
        }
      ]
    }
  ]
}